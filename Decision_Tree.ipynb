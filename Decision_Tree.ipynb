{
  "nbformat": 4,
  "nbformat_minor": 0,
  "metadata": {
    "colab": {
      "name": "Decision Tree.ipynb",
      "provenance": [],
      "collapsed_sections": []
    },
    "kernelspec": {
      "name": "python3",
      "display_name": "Python 3"
    },
    "language_info": {
      "name": "python"
    }
  },
  "cells": [
    {
      "cell_type": "code",
      "source": [
        ""
      ],
      "metadata": {
        "id": "q1FhfTQlz0Px"
      },
      "execution_count": null,
      "outputs": []
    },
    {
      "cell_type": "code",
      "source": [
        "# import the required library\n",
        "import pandas as pd \n",
        "\n",
        "#read train.csv as dataFrame\n",
        "#the first parameter is the path where train.csv is stored\n",
        "#the second parameter(list of string), to specify the columns names\n",
        "train = pd.read_csv(\"train.csv\" , names = [\"id\", \"sample\", \"label\"])\n",
        "\n",
        "#print the number of unique rows based on \"sample\" column \n",
        "print (len ( set (train[\"sample\"])))\n"
      ],
      "metadata": {
        "colab": {
          "base_uri": "https://localhost:8080/"
        },
        "id": "Cnr7XqmXyhCa",
        "outputId": "03fba3c2-1c3b-459c-9c9c-1dda91bf0bd4"
      },
      "execution_count": null,
      "outputs": [
        {
          "output_type": "stream",
          "name": "stdout",
          "text": [
            "1877\n"
          ]
        }
      ]
    },
    {
      "cell_type": "code",
      "source": [
        "# drop duplicated rows based on \"sample\" column\n",
        "train = train.drop_duplicates(subset=['sample'])\n",
        "\n",
        "# if you want to convertet back to CSV\n",
        "# 1st parameter is the path, 2nd for removing the indecies added to the dataFrame\n",
        "train.to_csv(\"/content/new_train.csv\", index = False )"
      ],
      "metadata": {
        "id": "980QErxbz1tx"
      },
      "execution_count": null,
      "outputs": []
    },
    {
      "cell_type": "code",
      "execution_count": null,
      "metadata": {
        "id": "7_-Yh9uO8Ujd"
      },
      "outputs": [],
      "source": [
        "import numpy as np\n",
        "import pandas as pd\n",
        "from sklearn import datasets\n",
        "from sklearn.preprocessing import LabelEncoder\n"
      ]
    },
    {
      "cell_type": "code",
      "source": [
        "test = pd.read_csv(\"/content/play_tennis.csv\")"
      ],
      "metadata": {
        "id": "sJ5kF1zjMU6W"
      },
      "execution_count": null,
      "outputs": []
    },
    {
      "cell_type": "code",
      "source": [
        "test"
      ],
      "metadata": {
        "colab": {
          "base_uri": "https://localhost:8080/",
          "height": 488
        },
        "id": "VaqLXJUAMX1F",
        "outputId": "a1fa2fe8-e9c1-424a-b73a-df4bdd44c8d1"
      },
      "execution_count": null,
      "outputs": [
        {
          "output_type": "execute_result",
          "data": {
            "text/html": [
              "\n",
              "  <div id=\"df-1b5fb6da-5274-4c64-aefd-9b72567a024c\">\n",
              "    <div class=\"colab-df-container\">\n",
              "      <div>\n",
              "<style scoped>\n",
              "    .dataframe tbody tr th:only-of-type {\n",
              "        vertical-align: middle;\n",
              "    }\n",
              "\n",
              "    .dataframe tbody tr th {\n",
              "        vertical-align: top;\n",
              "    }\n",
              "\n",
              "    .dataframe thead th {\n",
              "        text-align: right;\n",
              "    }\n",
              "</style>\n",
              "<table border=\"1\" class=\"dataframe\">\n",
              "  <thead>\n",
              "    <tr style=\"text-align: right;\">\n",
              "      <th></th>\n",
              "      <th>day</th>\n",
              "      <th>outlook</th>\n",
              "      <th>temp</th>\n",
              "      <th>humidity</th>\n",
              "      <th>wind</th>\n",
              "      <th>play</th>\n",
              "    </tr>\n",
              "  </thead>\n",
              "  <tbody>\n",
              "    <tr>\n",
              "      <th>0</th>\n",
              "      <td>D1</td>\n",
              "      <td>Sunny</td>\n",
              "      <td>Hot</td>\n",
              "      <td>High</td>\n",
              "      <td>Weak</td>\n",
              "      <td>No</td>\n",
              "    </tr>\n",
              "    <tr>\n",
              "      <th>1</th>\n",
              "      <td>D2</td>\n",
              "      <td>Sunny</td>\n",
              "      <td>Hot</td>\n",
              "      <td>High</td>\n",
              "      <td>Strong</td>\n",
              "      <td>No</td>\n",
              "    </tr>\n",
              "    <tr>\n",
              "      <th>2</th>\n",
              "      <td>D3</td>\n",
              "      <td>Overcast</td>\n",
              "      <td>Hot</td>\n",
              "      <td>High</td>\n",
              "      <td>Weak</td>\n",
              "      <td>Yes</td>\n",
              "    </tr>\n",
              "    <tr>\n",
              "      <th>3</th>\n",
              "      <td>D4</td>\n",
              "      <td>Rain</td>\n",
              "      <td>Mild</td>\n",
              "      <td>High</td>\n",
              "      <td>Weak</td>\n",
              "      <td>Yes</td>\n",
              "    </tr>\n",
              "    <tr>\n",
              "      <th>4</th>\n",
              "      <td>D5</td>\n",
              "      <td>Rain</td>\n",
              "      <td>Cool</td>\n",
              "      <td>Normal</td>\n",
              "      <td>Weak</td>\n",
              "      <td>Yes</td>\n",
              "    </tr>\n",
              "    <tr>\n",
              "      <th>5</th>\n",
              "      <td>D6</td>\n",
              "      <td>Rain</td>\n",
              "      <td>Cool</td>\n",
              "      <td>Normal</td>\n",
              "      <td>Strong</td>\n",
              "      <td>No</td>\n",
              "    </tr>\n",
              "    <tr>\n",
              "      <th>6</th>\n",
              "      <td>D7</td>\n",
              "      <td>Overcast</td>\n",
              "      <td>Cool</td>\n",
              "      <td>Normal</td>\n",
              "      <td>Strong</td>\n",
              "      <td>Yes</td>\n",
              "    </tr>\n",
              "    <tr>\n",
              "      <th>7</th>\n",
              "      <td>D8</td>\n",
              "      <td>Sunny</td>\n",
              "      <td>Mild</td>\n",
              "      <td>High</td>\n",
              "      <td>Weak</td>\n",
              "      <td>No</td>\n",
              "    </tr>\n",
              "    <tr>\n",
              "      <th>8</th>\n",
              "      <td>D9</td>\n",
              "      <td>Sunny</td>\n",
              "      <td>Cool</td>\n",
              "      <td>Normal</td>\n",
              "      <td>Weak</td>\n",
              "      <td>Yes</td>\n",
              "    </tr>\n",
              "    <tr>\n",
              "      <th>9</th>\n",
              "      <td>D10</td>\n",
              "      <td>Rain</td>\n",
              "      <td>Mild</td>\n",
              "      <td>Normal</td>\n",
              "      <td>Weak</td>\n",
              "      <td>Yes</td>\n",
              "    </tr>\n",
              "    <tr>\n",
              "      <th>10</th>\n",
              "      <td>D11</td>\n",
              "      <td>Sunny</td>\n",
              "      <td>Mild</td>\n",
              "      <td>Normal</td>\n",
              "      <td>Strong</td>\n",
              "      <td>Yes</td>\n",
              "    </tr>\n",
              "    <tr>\n",
              "      <th>11</th>\n",
              "      <td>D12</td>\n",
              "      <td>Overcast</td>\n",
              "      <td>Mild</td>\n",
              "      <td>High</td>\n",
              "      <td>Strong</td>\n",
              "      <td>Yes</td>\n",
              "    </tr>\n",
              "    <tr>\n",
              "      <th>12</th>\n",
              "      <td>D13</td>\n",
              "      <td>Overcast</td>\n",
              "      <td>Hot</td>\n",
              "      <td>Normal</td>\n",
              "      <td>Weak</td>\n",
              "      <td>Yes</td>\n",
              "    </tr>\n",
              "    <tr>\n",
              "      <th>13</th>\n",
              "      <td>D14</td>\n",
              "      <td>Rain</td>\n",
              "      <td>Mild</td>\n",
              "      <td>High</td>\n",
              "      <td>Strong</td>\n",
              "      <td>No</td>\n",
              "    </tr>\n",
              "  </tbody>\n",
              "</table>\n",
              "</div>\n",
              "      <button class=\"colab-df-convert\" onclick=\"convertToInteractive('df-1b5fb6da-5274-4c64-aefd-9b72567a024c')\"\n",
              "              title=\"Convert this dataframe to an interactive table.\"\n",
              "              style=\"display:none;\">\n",
              "        \n",
              "  <svg xmlns=\"http://www.w3.org/2000/svg\" height=\"24px\"viewBox=\"0 0 24 24\"\n",
              "       width=\"24px\">\n",
              "    <path d=\"M0 0h24v24H0V0z\" fill=\"none\"/>\n",
              "    <path d=\"M18.56 5.44l.94 2.06.94-2.06 2.06-.94-2.06-.94-.94-2.06-.94 2.06-2.06.94zm-11 1L8.5 8.5l.94-2.06 2.06-.94-2.06-.94L8.5 2.5l-.94 2.06-2.06.94zm10 10l.94 2.06.94-2.06 2.06-.94-2.06-.94-.94-2.06-.94 2.06-2.06.94z\"/><path d=\"M17.41 7.96l-1.37-1.37c-.4-.4-.92-.59-1.43-.59-.52 0-1.04.2-1.43.59L10.3 9.45l-7.72 7.72c-.78.78-.78 2.05 0 2.83L4 21.41c.39.39.9.59 1.41.59.51 0 1.02-.2 1.41-.59l7.78-7.78 2.81-2.81c.8-.78.8-2.07 0-2.86zM5.41 20L4 18.59l7.72-7.72 1.47 1.35L5.41 20z\"/>\n",
              "  </svg>\n",
              "      </button>\n",
              "      \n",
              "  <style>\n",
              "    .colab-df-container {\n",
              "      display:flex;\n",
              "      flex-wrap:wrap;\n",
              "      gap: 12px;\n",
              "    }\n",
              "\n",
              "    .colab-df-convert {\n",
              "      background-color: #E8F0FE;\n",
              "      border: none;\n",
              "      border-radius: 50%;\n",
              "      cursor: pointer;\n",
              "      display: none;\n",
              "      fill: #1967D2;\n",
              "      height: 32px;\n",
              "      padding: 0 0 0 0;\n",
              "      width: 32px;\n",
              "    }\n",
              "\n",
              "    .colab-df-convert:hover {\n",
              "      background-color: #E2EBFA;\n",
              "      box-shadow: 0px 1px 2px rgba(60, 64, 67, 0.3), 0px 1px 3px 1px rgba(60, 64, 67, 0.15);\n",
              "      fill: #174EA6;\n",
              "    }\n",
              "\n",
              "    [theme=dark] .colab-df-convert {\n",
              "      background-color: #3B4455;\n",
              "      fill: #D2E3FC;\n",
              "    }\n",
              "\n",
              "    [theme=dark] .colab-df-convert:hover {\n",
              "      background-color: #434B5C;\n",
              "      box-shadow: 0px 1px 3px 1px rgba(0, 0, 0, 0.15);\n",
              "      filter: drop-shadow(0px 1px 2px rgba(0, 0, 0, 0.3));\n",
              "      fill: #FFFFFF;\n",
              "    }\n",
              "  </style>\n",
              "\n",
              "      <script>\n",
              "        const buttonEl =\n",
              "          document.querySelector('#df-1b5fb6da-5274-4c64-aefd-9b72567a024c button.colab-df-convert');\n",
              "        buttonEl.style.display =\n",
              "          google.colab.kernel.accessAllowed ? 'block' : 'none';\n",
              "\n",
              "        async function convertToInteractive(key) {\n",
              "          const element = document.querySelector('#df-1b5fb6da-5274-4c64-aefd-9b72567a024c');\n",
              "          const dataTable =\n",
              "            await google.colab.kernel.invokeFunction('convertToInteractive',\n",
              "                                                     [key], {});\n",
              "          if (!dataTable) return;\n",
              "\n",
              "          const docLinkHtml = 'Like what you see? Visit the ' +\n",
              "            '<a target=\"_blank\" href=https://colab.research.google.com/notebooks/data_table.ipynb>data table notebook</a>'\n",
              "            + ' to learn more about interactive tables.';\n",
              "          element.innerHTML = '';\n",
              "          dataTable['output_type'] = 'display_data';\n",
              "          await google.colab.output.renderOutput(dataTable, element);\n",
              "          const docLink = document.createElement('div');\n",
              "          docLink.innerHTML = docLinkHtml;\n",
              "          element.appendChild(docLink);\n",
              "        }\n",
              "      </script>\n",
              "    </div>\n",
              "  </div>\n",
              "  "
            ],
            "text/plain": [
              "    day   outlook  temp humidity    wind play\n",
              "0    D1     Sunny   Hot     High    Weak   No\n",
              "1    D2     Sunny   Hot     High  Strong   No\n",
              "2    D3  Overcast   Hot     High    Weak  Yes\n",
              "3    D4      Rain  Mild     High    Weak  Yes\n",
              "4    D5      Rain  Cool   Normal    Weak  Yes\n",
              "5    D6      Rain  Cool   Normal  Strong   No\n",
              "6    D7  Overcast  Cool   Normal  Strong  Yes\n",
              "7    D8     Sunny  Mild     High    Weak   No\n",
              "8    D9     Sunny  Cool   Normal    Weak  Yes\n",
              "9   D10      Rain  Mild   Normal    Weak  Yes\n",
              "10  D11     Sunny  Mild   Normal  Strong  Yes\n",
              "11  D12  Overcast  Mild     High  Strong  Yes\n",
              "12  D13  Overcast   Hot   Normal    Weak  Yes\n",
              "13  D14      Rain  Mild     High  Strong   No"
            ]
          },
          "metadata": {},
          "execution_count": 5
        }
      ]
    },
    {
      "cell_type": "markdown",
      "source": [
        "# Evaluation Criteria:\n",
        "\n",
        "\n",
        "\n",
        "1.   Entropy:\n",
        "\\begin{align}\n",
        "Entropy(S) = - \\sum_{i=1}^c p_i \\log p_i\n",
        "\\end{align}\n",
        "\n",
        "2.   MCE:\n",
        "\n",
        "\\begin{align}\n",
        "MCE(S,x) = 1 - max( p_1 , p_2 ,..., p_n)\n",
        "\\end{align}\n",
        "\n",
        "3.  Gini: \n",
        "\n",
        "\\begin{align}\n",
        "Gini(S) = 1−  \\sum_{i=1}^n p_i^2 \n",
        "\\end{align}\n",
        "\n",
        "\n",
        "\n",
        "\n"
      ],
      "metadata": {
        "id": "jQVIsxQOS2BS"
      }
    },
    {
      "cell_type": "code",
      "source": [
        "#MAX_DEPTH = 10\n",
        "\n",
        "class Dtree :\n",
        "  def __init__(self , X , y , depth=0,\n",
        "               features = None , label = None,\n",
        "               feature = None, Type = None,\n",
        "               AllFeatures = None, value =None, NextSplitBy = None ):\n",
        "    \n",
        "        self.children = {}\n",
        "        self.X = X\n",
        "        self.y = y\n",
        "        \n",
        "        # if features == None:\n",
        "        #   self.features = set (self.X.columns)\n",
        "        # else:\n",
        "        self.AllFeatures = AllFeatures\n",
        "        \n",
        "        self.NextSplitBy = NextSplitBy\n",
        "\n",
        "        self.feature = feature\n",
        "        self.value = value\n",
        "\n",
        "        #calculated from root node and set to children\n",
        "        self.expectedValues = None \n",
        "\n",
        "        # if label == None:\n",
        "        #   self.label = max (dict (self.y.value_counts()))\n",
        "        # else:\n",
        "        self.label = label\n",
        "\n",
        "        self.Type = Type\n",
        "\n",
        "        self.IGScore = None\n",
        "\n",
        "\n",
        "        #self.MAX_DEPTH = MAX_DEPTH\n",
        "        self.depth = depth\n",
        "\n",
        "        #self.classes = y.unique()\n",
        "\n",
        "        #This the root node\n",
        "        self.Bulid()\n",
        "\n",
        "\n",
        "  def Bulid (self):\n",
        "\n",
        "    #self.feature , self.IGScore = self.MakeSplitDecision(self.AllFeatures)\n",
        "    #possibleValues = self.X[self.feature].unique()\n",
        "\n",
        "    if len (self.y.unique()) == 1:\n",
        "      self.label = self.y.unique()[0]\n",
        "      self.Type = \"leaf\"\n",
        "      return \n",
        "\n",
        "    if len(self.AllFeatures) == 0:\n",
        "      self.label = max (dict (y.value_counts()))\n",
        "      self.Type = \"leaf\"\n",
        "      return\n",
        "\n",
        "    \n",
        "    if len(self.y.unique()) > 1: # or self.depth < self.MAX_DEPTH:   #stopping critera\n",
        "    \n",
        "        self.NextSplitBy , self.IGScore = self.MakeSplitDecision(self.AllFeatures)\n",
        "        \n",
        "        if self.feature == None:\n",
        "          print (\"No best Feature were found\")\n",
        "\n",
        "        possibleValues = self.X[self.NextSplitBy].unique()\n",
        "\n",
        "        for v in possibleValues:\n",
        "          \n",
        "          SubsetX = self.X[self.X[self.NextSplitBy] == v] # return rows where feature == specific values\n",
        "          SubsetY = self.y[SubsetX.index]\n",
        "          \n",
        "          if len(SubsetX) == 0:\n",
        "            print(\"No rows left, len(SubsetX) is 0 \")\n",
        "\n",
        "          # if len(SubsetX) == 0:\n",
        "          m = self.AllFeatures - {self.NextSplitBy}       \n",
        "\n",
        "          print(self.AllFeatures ,\"\\n\" , {self.feature}, \"\\n\" , m ,\"\\n\", len(SubsetX) , \"\\n\", v )\n",
        "\n",
        "          child = Dtree(SubsetX.copy() , SubsetY.copy() ,\n",
        "                        self.depth+1 ,\n",
        "                        label = max (dict (SubsetY.value_counts())),\n",
        "                        AllFeatures = m,\n",
        "                        feature = self.NextSplitBy,\n",
        "                        value = v,\n",
        "                        Type = \"internal\"\n",
        "                        )\n",
        "          # else:\n",
        "            \n",
        "          #   #print(self.AllFeatures , self.feature)\n",
        "          #   m = self.AllFeatures - {self.feature}\n",
        "\n",
        "          #   print(self.AllFeatures ,\"\\n\" , {self.feature}, \"\\n\" , m ,\"\\n\", len(SubsetX) , \"\\n\", v )\n",
        "            \n",
        "          #   child = Dtree(SubsetX.copy() , SubsetY.copy() , self.depth+1,\n",
        "          #               features = m,\n",
        "          #               TargetFeature = self.feature,\n",
        "          #               label = max (dict (SubsetY.value_counts()))\n",
        "          #               )\n",
        "            #print (1)\n",
        "          self.children[v]= child # append to children\n",
        "        \n",
        "        for v in possibleValues:          \n",
        "          self.children[v].Bulid()\n",
        "            \n",
        "\n",
        "            \n",
        "\n",
        "    return self\n",
        "\n",
        "# day\t  outlook\t  temp\thumidity\twind\t  play\n",
        "# D1\t  Sunny\t    Hot\t  High\t    Weak\t  No\n",
        "  \n",
        "  def predict (self , df):\n",
        "    \"\"\" recieves a dataframe and returns a list of predictions \"\"\"\n",
        "\n",
        "    #c=0\n",
        "    predictions =[]\n",
        "    for indx in range(len(df)):\n",
        "\n",
        "        pred = self.predictOne(dict(df.iloc[indx]).copy()) \n",
        "\n",
        "        #print(indx , \": \", pred , res )\n",
        "        predictions.append(pred)\n",
        "\n",
        "    return predictions\n",
        "\n",
        "\n",
        "\n",
        "\n",
        "\n",
        "  def predictOne(self , row) -> str:\n",
        "\n",
        "  \n",
        "    # if (len (row) == 0):\n",
        "    #   print(\"len (row) == 0\")\n",
        "    #   return max (dict (self.y.value_counts())) #self.label\n",
        "\n",
        "    # if self == None :\n",
        "    #   print(\"self is none\")\n",
        "    #   return max (dict (self.y.value_counts())) #self.label\n",
        "\n",
        "    # if len (tree.children) == 0: #self.NextSplitBy == None and \n",
        "    #   return max (dict (tree.y.value_counts())) #self.label    #return the highest class appeared in the list\n",
        "\n",
        "\n",
        "      node = self\n",
        "      label = \"Undefined\"\n",
        "\n",
        "      while (node is not None ):\n",
        "\n",
        "\n",
        "        \n",
        "        if len(node.children) != 0 :\n",
        "\n",
        "\n",
        "              # print(\"y counts\", dict (tree.y.value_counts()))\n",
        "              # print(\"child counts\", dict (node.y.value_counts()))\n",
        "              # print(\"val :\" , tree.value)\n",
        "              # print(\"child len: \", len(tree.children) )\n",
        "              # print(\"children:\",tree.children )\n",
        "              # print(\"row len: \", len(row))\n",
        "              # print(\"row :\", row )\n",
        "              # print(\"child:\" , node)\n",
        "              # print(\"child children:\", node.children) \n",
        "              # print(\"\")\n",
        "\n",
        "              branchName = row[node.NextSplitBy]\n",
        "              child = node.children[branchName] \n",
        "              row.pop (node.NextSplitBy)\n",
        "\n",
        "              node = child #.predictOne(row)\n",
        "              # label = node.label\n",
        "\n",
        "        else:\n",
        "              # print(\"child is none: \", max(dict (node.y.value_counts())))\n",
        "              # print(\"label \", node.label)\n",
        "              \n",
        "              label = node.label\n",
        "              break\n",
        "\n",
        "\n",
        "      return label #max(dict (child.y.value_counts())) #self.label\n",
        "\n",
        "    # print(\"NextSplitBy: \" , tree.NextSplitBy )\n",
        "    # print(\"branchName: \" , branchName )\n",
        "    \n",
        "      \n",
        "\n",
        "      \n",
        "\n",
        "\n",
        "\n",
        "\n",
        "\n",
        "\n",
        "  def MakeSplitDecision (self , features):\n",
        "    \"\"\"\n",
        "    Perform spliting on the tree until:\n",
        "        1- the maximum depth is reached, \n",
        "        2- one class remains, or\n",
        "        3- A performance metric is achieved.\n",
        "    \"\"\"\n",
        "    #determine the best split based on the features\n",
        "\n",
        "    BestFeature = None\n",
        "    BestInformationGain = -1\n",
        "\n",
        "    for f in features:      \n",
        "      IG = self.CalculateIG(f)\n",
        "\n",
        "      if BestInformationGain < IG:\n",
        "        BestFeature = f\n",
        "        BestInformationGain = IG\n",
        "\n",
        "    return BestFeature, BestInformationGain \n",
        "\n",
        "\n",
        "  def prettyPrint(self):\n",
        "    print(self.feature , self.label , self.depth)\n",
        "    \n",
        "\n",
        "    for child in self.children.values():\n",
        "      child.prettyPrint()\n",
        "\n",
        "\n",
        "  def CalculateIG(self , feature):\n",
        "    \"\"\"\n",
        "      loop over attribute's values to calculate the maximum Information Gain.\n",
        "    \"\"\"\n",
        "\n",
        "    #Get unique values for that attributes:\n",
        "    Xtemp = self.X.copy()\n",
        "    ytemp = self.y.copy()\n",
        "\n",
        "    PossibleValuesForFeature= Xtemp[feature].unique()\n",
        "\n",
        "    IG = self.Entropy(Xtemp, ytemp)\n",
        "\n",
        "    for value in PossibleValuesForFeature:\n",
        "      SubsetX = Xtemp[Xtemp[feature] == value] # return rows where feature == specific values\n",
        "      SubsetY = ytemp [SubsetX.index]\n",
        "\n",
        "      IG -=  (SubsetX.shape[0] / Xtemp.shape[0]) * self.Entropy(SubsetX, SubsetY) \n",
        "\n",
        "    return IG\n",
        "\n",
        "\n",
        "  def GiniIndex(self):\n",
        "    pass\n",
        "\n",
        "  def Entropy(self, XTemp , yTemp):\n",
        "    \"\"\"\n",
        "    For attribute x_i, calculate the value of entropy \n",
        "    \"\"\"\n",
        "\n",
        "    entropy = 0\n",
        "    for c in yTemp.unique(): #returns the rows where class = c   \n",
        "      splitCandidate= XTemp[yTemp[:] == c] \n",
        "      ratio = len(splitCandidate) / len(XTemp)\n",
        "      \n",
        "      entropy += ratio * np.log2(ratio)\n",
        "\n",
        "    return -1 * entropy #take every class i and do (- p_i .log p_i)\n",
        "\n",
        "    \n",
        "\n",
        "  def MCE(self):\n",
        "    \"\"\"\n",
        "     - Miss-Classification Error(MCE): measures the amount\n",
        "     of samples that classified with an incorrect label. \n",
        "\n",
        "     - calculating the MCE for each attributes (A) then \n",
        "     the attribute with minimum MCEis selected at each node.\n",
        "    \"\"\"\n",
        "    pass\n"
      ],
      "metadata": {
        "id": "LYDs3tHJDpdz"
      },
      "execution_count": 305,
      "outputs": []
    },
    {
      "cell_type": "markdown",
      "source": [
        "\n",
        "\n",
        "1.   implement Chi Square\n",
        "2.   implement other error metrics\n",
        "3.   when a value for an attribute is not present, Try Catch\n",
        "4.   Test on the problem"
      ],
      "metadata": {
        "id": "VPMRKeMZk82e"
      }
    },
    {
      "cell_type": "code",
      "source": [
        "X = test[[\"outlook\" , \"temp\" ,\"humidity\", \"wind\"]]\n",
        "y = test[\"play\"]"
      ],
      "metadata": {
        "id": "8aJFZ6qPD9Sg"
      },
      "execution_count": 307,
      "outputs": []
    },
    {
      "cell_type": "code",
      "source": [
        "from sklearn.model_selection import train_test_split\n",
        "X_train, X_test, y_train, y_test = train_test_split(X, y, test_size = 0.2,random_state = 0)"
      ],
      "metadata": {
        "id": "kNhWD6iHdEY3"
      },
      "execution_count": 311,
      "outputs": []
    },
    {
      "cell_type": "code",
      "source": [
        "tree = Dtree(X_train , y_train , AllFeatures= set(X.columns) , value = None , Type = \"root\")"
      ],
      "metadata": {
        "id": "gabzy0QjD16g"
      },
      "execution_count": null,
      "outputs": []
    },
    {
      "cell_type": "code",
      "source": [
        "tree.predict(X_test)"
      ],
      "metadata": {
        "colab": {
          "base_uri": "https://localhost:8080/"
        },
        "id": "ssnUZOdhdKvQ",
        "outputId": "fd95757c-e55b-47e0-9f90-868212deed20"
      },
      "execution_count": 313,
      "outputs": [
        {
          "output_type": "execute_result",
          "data": {
            "text/plain": [
              "['Yes', 'Yes', 'Yes']"
            ]
          },
          "metadata": {},
          "execution_count": 313
        }
      ]
    },
    {
      "cell_type": "code",
      "source": [
        "y_test"
      ],
      "metadata": {
        "colab": {
          "base_uri": "https://localhost:8080/"
        },
        "id": "1uJ95o5rdbdF",
        "outputId": "f32cc799-e05c-4eb0-d2ec-94166c34ad82"
      },
      "execution_count": 314,
      "outputs": [
        {
          "output_type": "execute_result",
          "data": {
            "text/plain": [
              "8    Yes\n",
              "6    Yes\n",
              "4    Yes\n",
              "Name: play, dtype: object"
            ]
          },
          "metadata": {},
          "execution_count": 314
        }
      ]
    },
    {
      "cell_type": "code",
      "source": [
        "tree.prettyPrint()"
      ],
      "metadata": {
        "id": "YQWLEXKzKMi0"
      },
      "execution_count": null,
      "outputs": []
    },
    {
      "cell_type": "code",
      "source": [
        "import scipy.stats\n",
        "\n",
        "#find Chi-Square critical value\n",
        "scipy.stats.chi2.ppf(1- 0.025, df=2)"
      ],
      "metadata": {
        "colab": {
          "base_uri": "https://localhost:8080/"
        },
        "id": "CbdFmHXkgdnB",
        "outputId": "a6a1d808-5dcd-4e61-f7fe-485786584aba"
      },
      "execution_count": 320,
      "outputs": [
        {
          "output_type": "execute_result",
          "data": {
            "text/plain": [
              "7.377758908227871"
            ]
          },
          "metadata": {},
          "execution_count": 320
        }
      ]
    },
    {
      "cell_type": "code",
      "source": [
        "test"
      ],
      "metadata": {
        "id": "_tcANuBGZFS7"
      },
      "execution_count": null,
      "outputs": []
    },
    {
      "cell_type": "code",
      "source": [
        "m =  {'humidity': 'High',\n",
        "     'outlook': 'Sunny',\n",
        "     'temp': 'Hot',\n",
        "     'wind': 'Strong'\n",
        "     }"
      ],
      "metadata": {
        "id": "5AtKzel11Rx0"
      },
      "execution_count": 280,
      "outputs": []
    },
    {
      "cell_type": "code",
      "source": [
        ""
      ],
      "metadata": {
        "id": "8QN7K8RRcb7E"
      },
      "execution_count": 302,
      "outputs": []
    },
    {
      "cell_type": "code",
      "source": [
        "preds = tree.predict(X_test)\n",
        "preds"
      ],
      "metadata": {
        "colab": {
          "base_uri": "https://localhost:8080/"
        },
        "id": "nYgkb-rhEffl",
        "outputId": "d975c80a-1b68-4df8-e393-3c17763b253a"
      },
      "execution_count": 303,
      "outputs": [
        {
          "output_type": "stream",
          "name": "stdout",
          "text": [
            "0 :  Yes No\n",
            "1 :  Yes No\n",
            "2 :  Yes No\n",
            "3 :  Yes No\n",
            "4 :  Yes No\n"
          ]
        },
        {
          "output_type": "execute_result",
          "data": {
            "text/plain": [
              "['Yes', 'Yes', 'Yes', 'Yes', 'Yes']"
            ]
          },
          "metadata": {},
          "execution_count": 303
        }
      ]
    },
    {
      "cell_type": "code",
      "source": [
        "y_test"
      ],
      "metadata": {
        "colab": {
          "base_uri": "https://localhost:8080/"
        },
        "id": "oyMV7_EbcwKv",
        "outputId": "9f822d08-3c31-432d-8147-ed09e6fea498"
      },
      "execution_count": 304,
      "outputs": [
        {
          "output_type": "execute_result",
          "data": {
            "text/plain": [
              "8     Yes\n",
              "6     Yes\n",
              "4     Yes\n",
              "11    Yes\n",
              "2     Yes\n",
              "Name: play, dtype: object"
            ]
          },
          "metadata": {},
          "execution_count": 304
        }
      ]
    },
    {
      "cell_type": "code",
      "source": [
        "dict(X.iloc[0]).copy()"
      ],
      "metadata": {
        "id": "6eVhCfJeWe2n"
      },
      "execution_count": null,
      "outputs": []
    },
    {
      "cell_type": "code",
      "source": [
        "\n",
        "def printLevelOrder(root):\n",
        "     \n",
        "    # Base case\n",
        "    if root is None:\n",
        "        return\n",
        "    q = []\n",
        "     \n",
        "    # Enqueue root and initialize height\n",
        "    q.append(root)\n",
        "         \n",
        "    while q:\n",
        "\n",
        "        count = len(q)\n",
        "\n",
        "        while count > 0:\n",
        "            temp = q.pop(0)\n",
        "            print(temp.feature +\"/\"+ temp.label+\"/\"+  , end= \"   \" )\n",
        "            \n",
        "\n",
        "\n",
        "            for child in temp.children.values():\n",
        "              q.append(child)\n",
        " \n",
        "            count -= 1\n",
        "        print(' ')"
      ],
      "metadata": {
        "id": "hNsGSZaoPfyU"
      },
      "execution_count": null,
      "outputs": []
    },
    {
      "cell_type": "code",
      "source": [
        "printLevelOrder(tree)"
      ],
      "metadata": {
        "colab": {
          "base_uri": "https://localhost:8080/"
        },
        "id": "Iyz1PQ7Ga3uL",
        "outputId": "5c39d674-6c4e-4197-9faa-6131c875f726"
      },
      "execution_count": null,
      "outputs": [
        {
          "output_type": "stream",
          "name": "stdout",
          "text": [
            "outlook/Yes    \n",
            "humidity/Yes   outlook/Yes   wind/Yes    \n",
            "humidity/No   humidity/Yes   wind/Yes   wind/No    \n"
          ]
        }
      ]
    },
    {
      "cell_type": "code",
      "source": [
        "y"
      ],
      "metadata": {
        "colab": {
          "base_uri": "https://localhost:8080/"
        },
        "id": "SJnPdah4cqVd",
        "outputId": "013f2c54-f756-4812-824f-09ba62541814"
      },
      "execution_count": null,
      "outputs": [
        {
          "output_type": "execute_result",
          "data": {
            "text/plain": [
              "0      No\n",
              "1      No\n",
              "2     Yes\n",
              "3     Yes\n",
              "4     Yes\n",
              "5      No\n",
              "6     Yes\n",
              "7      No\n",
              "8     Yes\n",
              "9     Yes\n",
              "10    Yes\n",
              "11    Yes\n",
              "12    Yes\n",
              "13     No\n",
              "Name: play, dtype: object"
            ]
          },
          "metadata": {},
          "execution_count": 234
        }
      ]
    },
    {
      "cell_type": "code",
      "source": [
        "if [1]:\n",
        "  print(\"d\")"
      ],
      "metadata": {
        "colab": {
          "base_uri": "https://localhost:8080/"
        },
        "id": "V80AAENRYEct",
        "outputId": "e2e0fa94-3347-4304-9777-8ea670e45bf3"
      },
      "execution_count": null,
      "outputs": [
        {
          "output_type": "stream",
          "name": "stdout",
          "text": [
            "d\n"
          ]
        }
      ]
    },
    {
      "cell_type": "code",
      "source": [
        "X = test[[\"outlook\" , \"temp\" ,\"humidity\", \"wind\"]]\n",
        "y = test[\"play\"]"
      ],
      "metadata": {
        "id": "FsaBej4WbLsT"
      },
      "execution_count": null,
      "outputs": []
    },
    {
      "cell_type": "code",
      "source": [
        "from sklearn.preprocessing import LabelEncoder\n",
        "Le = LabelEncoder()\n",
        "PlayTennis = test.copy()\n",
        "\n",
        "PlayTennis['outlook'] = Le.fit_transform(PlayTennis['outlook'])\n",
        "PlayTennis['temp'] = Le.fit_transform(PlayTennis['temp'])\n",
        "PlayTennis['humidity'] = Le.fit_transform(PlayTennis['humidity'])\n",
        "PlayTennis['wind'] = Le.fit_transform(PlayTennis['wind'])\n",
        "PlayTennis['play'] = Le.fit_transform(PlayTennis['play'])\n",
        "\n",
        "\n",
        "y = PlayTennis['play']\n",
        "X = PlayTennis.drop(['play' , \"day\"],axis=1)\n",
        "\n",
        "# Fitting the model\n",
        "from sklearn import tree\n",
        "clf = tree.DecisionTreeClassifier(criterion = 'entropy')\n",
        "clf = clf.fit(X, y)\n",
        "\n",
        "tree.plot_tree(clf)\n",
        "\n",
        "X_pred = clf.predict(X)\n",
        "sum (X_pred == y) / len(X_pred)"
      ],
      "metadata": {
        "colab": {
          "base_uri": "https://localhost:8080/",
          "height": 265
        },
        "id": "smzSEcYfQnhj",
        "outputId": "0cd9bf14-3695-4d32-f614-310280e5ba76"
      },
      "execution_count": null,
      "outputs": [
        {
          "output_type": "execute_result",
          "data": {
            "text/plain": [
              "1.0"
            ]
          },
          "metadata": {},
          "execution_count": 180
        },
        {
          "output_type": "display_data",
          "data": {
            "image/png": "[encoded data removed]",
            "text/plain": [
              "<Figure size 432x288 with 1 Axes>"
            ]
          },
          "metadata": {
            "needs_background": "light"
          }
        }
      ]
    },
    {
      "cell_type": "code",
      "source": [
        "X.columns"
      ],
      "metadata": {
        "colab": {
          "base_uri": "https://localhost:8080/"
        },
        "id": "yNVIJc-4Rf9a",
        "outputId": "15ebd16b-ba05-47d6-f13f-c0aca51a1bf3"
      },
      "execution_count": null,
      "outputs": [
        {
          "output_type": "execute_result",
          "data": {
            "text/plain": [
              "Index(['outlook', 'temp', 'humidity', 'wind'], dtype='object')"
            ]
          },
          "metadata": {},
          "execution_count": 183
        }
      ]
    },
    {
      "cell_type": "code",
      "source": [
        "clf.feature_importances_\n"
      ],
      "metadata": {
        "colab": {
          "base_uri": "https://localhost:8080/"
        },
        "id": "je-O5htiTFVC",
        "outputId": "83c58ef9-63ce-4de7-9fe9-457a481b01aa"
      },
      "execution_count": null,
      "outputs": [
        {
          "output_type": "execute_result",
          "data": {
            "text/plain": [
              "array([0.51455805, 0.        , 0.21123658, 0.27420537])"
            ]
          },
          "metadata": {},
          "execution_count": 182
        }
      ]
    },
    {
      "cell_type": "code",
      "source": [
        "import numpy as np"
      ],
      "metadata": {
        "id": "skkZv393Zims"
      },
      "execution_count": 57,
      "outputs": []
    },
    {
      "cell_type": "code",
      "source": [
        "def chi (values):\n",
        "  # sum =0\n",
        "  # for item in values:\n",
        "  #   sum += (((item[0] - item[1])**2 )/item[1])\n",
        "\n",
        "\n",
        "\n",
        "  li= [(((item[0] - item[1])**2 )/item[1]) for item in val]\n",
        "\n",
        "  print (\"values : \" ,li)\n",
        "\n",
        "  return   sum(li)\n"
      ],
      "metadata": {
        "id": "LCRxvTrJRURo"
      },
      "execution_count": 304,
      "outputs": []
    },
    {
      "cell_type": "code",
      "source": [
        "val = [[6 , 5.14] , [2 , 2.85] ,[3 , 3.85] , [3 , 2.14] ]\n",
        "chi(val)"
      ],
      "metadata": {
        "colab": {
          "base_uri": "https://localhost:8080/"
        },
        "id": "Mg0z3ma3RwN1",
        "outputId": "c260b140-00b5-49ac-a825-c6216cb6ae9f"
      },
      "execution_count": 305,
      "outputs": [
        {
          "output_type": "stream",
          "name": "stdout",
          "text": [
            "values :  [0.1438910505836577, 0.25350877192982463, 0.1876623376623377, 0.3456074766355139]\n"
          ]
        },
        {
          "output_type": "execute_result",
          "data": {
            "text/plain": [
              "0.9306696368113339"
            ]
          },
          "metadata": {},
          "execution_count": 305
        }
      ]
    },
    {
      "cell_type": "code",
      "source": [
        "def gini (val):\n",
        "  \n",
        "  res = []\n",
        "  for item in val:\n",
        "\n",
        "    s = item.sum()\n",
        "    total = 0\n",
        "    print(\"1 - \", end=\"\")\n",
        "    for i in item:\n",
        "\n",
        "      if not (i == 0 or s ==0):\n",
        "        total += (i/ s) **2\n",
        "      else:\n",
        "        total +=0\n",
        "\n",
        "      \n",
        "      print(\"(\" , i , \"/\" , s,\")**2 + \" , end=\"\")\n",
        "\n",
        "\n",
        "    res.append(1- total )\n",
        "    print(\"=\" , 1 - total , \"\\n\")\n",
        "\n",
        "\n",
        "\n",
        "\n",
        "  return res"
      ],
      "metadata": {
        "id": "DtY9wauXUPBu"
      },
      "execution_count": 300,
      "outputs": []
    },
    {
      "cell_type": "code",
      "source": [
        "v = np.array([[40,40] , [20,40] , [20,0]])\n",
        "gini(v)"
      ],
      "metadata": {
        "colab": {
          "base_uri": "https://localhost:8080/"
        },
        "id": "4Szs-_V4W2vM",
        "outputId": "27ff8733-9307-4b93-9c22-d7a6c2a33bca"
      },
      "execution_count": 301,
      "outputs": [
        {
          "output_type": "stream",
          "name": "stdout",
          "text": [
            "1 - ( 40 / 80 )**2 + ( 40 / 80 )**2 + = 0.5 \n",
            "\n",
            "1 - ( 20 / 60 )**2 + ( 40 / 60 )**2 + = 0.4444444444444444 \n",
            "\n",
            "1 - ( 20 / 20 )**2 + ( 0 / 20 )**2 + = 0.0 \n",
            "\n"
          ]
        },
        {
          "output_type": "execute_result",
          "data": {
            "text/plain": [
              "[0.5, 0.4444444444444444, 0.0]"
            ]
          },
          "metadata": {},
          "execution_count": 301
        }
      ]
    },
    {
      "cell_type": "code",
      "source": [
        "def MCE (val):\n",
        "  \n",
        "  res = []\n",
        "  for item in val:\n",
        "\n",
        "    s = item.sum()\n",
        "    total = [(i/ s) for i in item]\n",
        "    res.append(1- max( total) )\n",
        "\n",
        "    print(\"1 - max(\" , total , \") = \", 1- max( total) )\n",
        "\n",
        "  return res"
      ],
      "metadata": {
        "id": "oWEMjozUdErW"
      },
      "execution_count": 255,
      "outputs": []
    },
    {
      "cell_type": "code",
      "source": [
        "val = np.array([[40,40] , [30 ,10] , [10,30]])\n",
        "MCE(val)"
      ],
      "metadata": {
        "colab": {
          "base_uri": "https://localhost:8080/"
        },
        "id": "49su1RAIeA6f",
        "outputId": "61116837-dbd1-4ad4-ae44-bc1bec0165cc"
      },
      "execution_count": 256,
      "outputs": [
        {
          "output_type": "stream",
          "name": "stdout",
          "text": [
            "1 - max( [0.5, 0.5] ) =  0.5\n",
            "1 - max( [0.75, 0.25] ) =  0.25\n",
            "1 - max( [0.25, 0.75] ) =  0.25\n"
          ]
        },
        {
          "output_type": "execute_result",
          "data": {
            "text/plain": [
              "[0.5, 0.25, 0.25]"
            ]
          },
          "metadata": {},
          "execution_count": 256
        }
      ]
    },
    {
      "cell_type": "code",
      "source": [
        "def Entropy (val):\n",
        "  \n",
        "  res = []\n",
        "  for item in val:\n",
        "\n",
        "    # s = item.sum()\n",
        "    # total = [(i/ s)* np.log2(i / s) for i in item]\n",
        "\n",
        "\n",
        "    s = item.sum() # [40 , 40] -> 80\n",
        "    total = 0\n",
        "    for i in item:\n",
        "      d = i / s\n",
        "      if(d != 0):\n",
        "        total += (i/ s) * np.log2(i / s)\n",
        "\n",
        "        print(\"(\", i,\"/\",s,\")\", \"*\", np.log2(d) , end=\" +  \" )\n",
        "\n",
        "      else:\n",
        "        total += 0\n",
        "\n",
        "    \n",
        "\n",
        "    res.append(-1 * total )\n",
        "    print(\" = \", -1 * total, \"\\n\")\n",
        "\n",
        "\n",
        "  return res"
      ],
      "metadata": {
        "id": "KXRkLqRYeVZm"
      },
      "execution_count": 274,
      "outputs": []
    },
    {
      "cell_type": "code",
      "source": [
        "val  = np.array([[40,40] , [20 ,40] , [20,0] ])\n",
        "Entropy(val)\n"
      ],
      "metadata": {
        "colab": {
          "base_uri": "https://localhost:8080/"
        },
        "id": "eFtLE5mTfleM",
        "outputId": "9e76a137-cecc-4dff-ca57-c3087ae08108"
      },
      "execution_count": 275,
      "outputs": [
        {
          "output_type": "stream",
          "name": "stdout",
          "text": [
            "( 40 / 80 ) * -1.0 +  ( 40 / 80 ) * -1.0 +   =  1.0 \n",
            "\n",
            "( 20 / 60 ) * -1.5849625007211563 +  ( 40 / 60 ) * -0.5849625007211563 +   =  0.9182958340544896 \n",
            "\n",
            "( 20 / 20 ) * 0.0 +   =  -0.0 \n",
            "\n"
          ]
        },
        {
          "output_type": "execute_result",
          "data": {
            "text/plain": [
              "[1.0, 0.9182958340544896, -0.0]"
            ]
          },
          "metadata": {},
          "execution_count": 275
        }
      ]
    },
    {
      "cell_type": "code",
      "source": [
        "def IG (imp , values):\n",
        "\n",
        "  impList =[]\n",
        "\n",
        "  if imp == \"MCE\" or imp == \"mce\":\n",
        "    impList = MCE(values)\n",
        "  elif imp == \"entropy\" or imp == \"Entropy\":\n",
        "    impList = Entropy(values)\n",
        "  elif imp == \"gini\" or imp == \"Gini\":\n",
        "    impList = gini(values)\n",
        "  else:\n",
        "    print(\"enter a valid entropy name , {MCE,entropy,Gini} \")\n",
        "\n",
        "\n",
        "  finalRes = impList[0]\n",
        "  rootSum = values[0].sum()\n",
        "\n",
        "  impList = impList[1:]\n",
        "  values  = values[1:]\n",
        "    #print(values)\n",
        "\n",
        "  print(\"\")\n",
        "  print(\"{:.2f}\".format(finalRes), end=\" - \")  \n",
        "  for i in range(len(values)):\n",
        "    finalRes -= (values[i].sum()/rootSum) * impList[i]\n",
        "\n",
        "    if i !=  len(values) -1 :\n",
        "      print(\"(\" , values[i].sum(), \"/\" ,rootSum  , \" * \",  \"{:.2f}\".format(impList[i] ),end=\") + \")\n",
        "    else:\n",
        "      print(\"(\" , values[i].sum(), \"/\" , rootSum  , \" * \",  \"{:.2f}\".format(impList[i] ),end=\") =  \")\n",
        "\n",
        "  return finalRes"
      ],
      "metadata": {
        "id": "Oi5BvsfPgZmS"
      },
      "execution_count": 302,
      "outputs": []
    },
    {
      "cell_type": "code",
      "source": [
        "val  = np.array([[40,40] ,  [30,10] , [10,30]])\n",
        "IG(\"gini\",val)"
      ],
      "metadata": {
        "colab": {
          "base_uri": "https://localhost:8080/"
        },
        "id": "djc_6WregZ_N",
        "outputId": "411aa3fb-346d-4ede-8aa6-0451fb5e806d"
      },
      "execution_count": 303,
      "outputs": [
        {
          "output_type": "stream",
          "name": "stdout",
          "text": [
            "1 - ( 40 / 80 )**2 + ( 40 / 80 )**2 + = 0.5 \n",
            "\n",
            "1 - ( 30 / 40 )**2 + ( 10 / 40 )**2 + = 0.375 \n",
            "\n",
            "1 - ( 10 / 40 )**2 + ( 30 / 40 )**2 + = 0.375 \n",
            "\n",
            "\n",
            "0.50 - ( 40 / 80  *  0.38) + ( 40 / 80  *  0.38) =  "
          ]
        },
        {
          "output_type": "execute_result",
          "data": {
            "text/plain": [
              "0.125"
            ]
          },
          "metadata": {},
          "execution_count": 303
        }
      ]
    },
    {
      "cell_type": "code",
      "source": [
        "val  = np.array([[40,40] ,  [20,40] , [20,0]])\n",
        "IG(\"gini\",val)"
      ],
      "metadata": {
        "colab": {
          "base_uri": "https://localhost:8080/"
        },
        "id": "pwZLX31vsddQ",
        "outputId": "c1115969-b780-4f8b-cdf4-f77e8ad99a3b"
      },
      "execution_count": 294,
      "outputs": [
        {
          "output_type": "stream",
          "name": "stdout",
          "text": [
            "1 - ( 40 / 80 )**2 =  0.25\n",
            "1 - ( 40 / 80 )**2 =  0.5\n",
            "\n",
            "1 - ( 20 / 60 )**2 =  0.1111111111111111\n",
            "1 - ( 40 / 60 )**2 =  0.5555555555555556\n",
            "\n",
            "1 - ( 20 / 20 )**2 =  1.0\n",
            "1 - ( 0 / 20 )**2 =  1.0\n",
            "\n",
            "\n",
            "0.50 - ( 60 / 80  *  0.44) + ( 20 / 80  *  0.00) =  "
          ]
        },
        {
          "output_type": "execute_result",
          "data": {
            "text/plain": [
              "0.16666666666666669"
            ]
          },
          "metadata": {},
          "execution_count": 294
        }
      ]
    }
  ]
}